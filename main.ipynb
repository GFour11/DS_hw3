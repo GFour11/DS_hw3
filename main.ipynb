{
 "cells": [
  {
   "cell_type": "code",
   "execution_count": 9,
   "id": "initial_id",
   "metadata": {
    "collapsed": true,
    "ExecuteTime": {
     "end_time": "2023-10-01T18:05:48.617300500Z",
     "start_time": "2023-10-01T18:05:48.600160700Z"
    }
   },
   "outputs": [],
   "source": [
    "import numpy as np\n",
    "import pandas as pd \n",
    "\n",
    "\n",
    "def linear_regression_hypothesis(X, theta):\n",
    "    return np.dot(X, theta)"
   ]
  },
  {
   "cell_type": "code",
   "execution_count": 10,
   "outputs": [],
   "source": [
    "\n",
    "def mean_squared_error(theta, X, y):\n",
    "    m = len(y) \n",
    "    h = linear_regression_hypothesis(X, theta)\n",
    "    squared_errors = (h - y) ** 2  \n",
    "    mse = np.sum(squared_errors) / (2 * m) \n",
    "    return mse"
   ],
   "metadata": {
    "collapsed": false,
    "ExecuteTime": {
     "end_time": "2023-10-01T18:05:48.694330200Z",
     "start_time": "2023-10-01T18:05:48.608223400Z"
    }
   },
   "id": "78a8365003d04ee4"
  },
  {
   "cell_type": "code",
   "execution_count": 11,
   "outputs": [],
   "source": [
    "def gradient_descent_step(theta, X, y, learning_rate):\n",
    "    m = len(y) \n",
    "    h = np.dot(X, theta)  \n",
    "    gradient = np.dot(X.T, (h - y)) / m  \n",
    "    new_theta = theta - learning_rate * gradient  \n",
    "    return new_theta"
   ],
   "metadata": {
    "collapsed": false,
    "ExecuteTime": {
     "end_time": "2023-10-01T18:05:48.796337Z",
     "start_time": "2023-10-01T18:05:48.695326800Z"
    }
   },
   "id": "e2207128b0f9e11c"
  },
  {
   "cell_type": "code",
   "execution_count": 12,
   "outputs": [],
   "source": [
    "def normalize_data(data):\n",
    "    return (data - data.min()) / (data.max() - data.min())\n",
    "\n",
    "\n",
    "def denormalize_data(normalized_data, original_min, original_max):\n",
    "    return normalized_data * (original_max - original_min) + original_min"
   ],
   "metadata": {
    "collapsed": false,
    "ExecuteTime": {
     "end_time": "2023-10-01T18:05:48.870991Z",
     "start_time": "2023-10-01T18:05:48.799330900Z"
    }
   },
   "id": "e7db97f9a0d917b4"
  },
  {
   "cell_type": "code",
   "execution_count": 13,
   "outputs": [
    {
     "data": {
      "text/plain": "      price  area  bedrooms  bathrooms  stories mainroad guestroom basement  \\\n0  13300000  7420         4          2        3      yes        no       no   \n1  12250000  8960         4          4        4      yes        no       no   \n2  12250000  9960         3          2        2      yes        no      yes   \n3  12215000  7500         4          2        2      yes        no      yes   \n4  11410000  7420         4          1        2      yes       yes      yes   \n\n  hotwaterheating airconditioning  parking prefarea furnishingstatus  \n0              no             yes        2      yes        furnished  \n1              no             yes        3       no        furnished  \n2              no              no        2      yes   semi-furnished  \n3              no             yes        3      yes        furnished  \n4              no             yes        2       no        furnished  ",
      "text/html": "<div>\n<style scoped>\n    .dataframe tbody tr th:only-of-type {\n        vertical-align: middle;\n    }\n\n    .dataframe tbody tr th {\n        vertical-align: top;\n    }\n\n    .dataframe thead th {\n        text-align: right;\n    }\n</style>\n<table border=\"1\" class=\"dataframe\">\n  <thead>\n    <tr style=\"text-align: right;\">\n      <th></th>\n      <th>price</th>\n      <th>area</th>\n      <th>bedrooms</th>\n      <th>bathrooms</th>\n      <th>stories</th>\n      <th>mainroad</th>\n      <th>guestroom</th>\n      <th>basement</th>\n      <th>hotwaterheating</th>\n      <th>airconditioning</th>\n      <th>parking</th>\n      <th>prefarea</th>\n      <th>furnishingstatus</th>\n    </tr>\n  </thead>\n  <tbody>\n    <tr>\n      <th>0</th>\n      <td>13300000</td>\n      <td>7420</td>\n      <td>4</td>\n      <td>2</td>\n      <td>3</td>\n      <td>yes</td>\n      <td>no</td>\n      <td>no</td>\n      <td>no</td>\n      <td>yes</td>\n      <td>2</td>\n      <td>yes</td>\n      <td>furnished</td>\n    </tr>\n    <tr>\n      <th>1</th>\n      <td>12250000</td>\n      <td>8960</td>\n      <td>4</td>\n      <td>4</td>\n      <td>4</td>\n      <td>yes</td>\n      <td>no</td>\n      <td>no</td>\n      <td>no</td>\n      <td>yes</td>\n      <td>3</td>\n      <td>no</td>\n      <td>furnished</td>\n    </tr>\n    <tr>\n      <th>2</th>\n      <td>12250000</td>\n      <td>9960</td>\n      <td>3</td>\n      <td>2</td>\n      <td>2</td>\n      <td>yes</td>\n      <td>no</td>\n      <td>yes</td>\n      <td>no</td>\n      <td>no</td>\n      <td>2</td>\n      <td>yes</td>\n      <td>semi-furnished</td>\n    </tr>\n    <tr>\n      <th>3</th>\n      <td>12215000</td>\n      <td>7500</td>\n      <td>4</td>\n      <td>2</td>\n      <td>2</td>\n      <td>yes</td>\n      <td>no</td>\n      <td>yes</td>\n      <td>no</td>\n      <td>yes</td>\n      <td>3</td>\n      <td>yes</td>\n      <td>furnished</td>\n    </tr>\n    <tr>\n      <th>4</th>\n      <td>11410000</td>\n      <td>7420</td>\n      <td>4</td>\n      <td>1</td>\n      <td>2</td>\n      <td>yes</td>\n      <td>yes</td>\n      <td>yes</td>\n      <td>no</td>\n      <td>yes</td>\n      <td>2</td>\n      <td>no</td>\n      <td>furnished</td>\n    </tr>\n  </tbody>\n</table>\n</div>"
     },
     "execution_count": 13,
     "metadata": {},
     "output_type": "execute_result"
    }
   ],
   "source": [
    "df = pd.read_csv('Housing.csv')\n",
    "df.head()"
   ],
   "metadata": {
    "collapsed": false,
    "ExecuteTime": {
     "end_time": "2023-10-01T18:05:49.057113900Z",
     "start_time": "2023-10-01T18:05:48.873983800Z"
    }
   },
   "id": "8bee1e12728edc2b"
  },
  {
   "cell_type": "code",
   "execution_count": 14,
   "outputs": [
    {
     "name": "stdout",
     "output_type": "stream",
     "text": [
      "Intercept from scikit-learn: 0.042827399769954144\n",
      "Coefficients from scikit-learn: [0.47714269 0.36001286 0.17611257]\n"
     ]
    }
   ],
   "source": [
    "from sklearn.linear_model import LinearRegression\n",
    "features = ['area', 'bathrooms', 'bedrooms',]\n",
    "normalized = normalize_data(df[features])\n",
    "target = normalize_data(df['price'])\n",
    "\n",
    "model = LinearRegression()\n",
    "model.fit(normalized, target)\n",
    "\n",
    "print(f'Intercept from scikit-learn: {model.intercept_}')\n",
    "print(f'Coefficients from scikit-learn: {model.coef_}')"
   ],
   "metadata": {
    "collapsed": false,
    "ExecuteTime": {
     "end_time": "2023-10-01T18:05:50.135548200Z",
     "start_time": "2023-10-01T18:05:49.053023300Z"
    }
   },
   "id": "63798fc2b696f8ec"
  },
  {
   "cell_type": "code",
   "execution_count": 15,
   "outputs": [
    {
     "name": "stdout",
     "output_type": "stream",
     "text": [
      "Intercept from normal equation: 0.042827399769950786\n",
      "Coefficients from normal equation: [0.47714269 0.36001286 0.17611257]\n"
     ]
    }
   ],
   "source": [
    "X = np.hstack((np.ones((normalized.shape[0], 1)), normalized))\n",
    "\n",
    "w = np.linalg.inv(X.T.dot(X)).dot(X.T).dot(target)\n",
    "\n",
    "print(f'Intercept from normal equation: {w[0]}')\n",
    "print(f'Coefficients from normal equation: {w[1:]}')"
   ],
   "metadata": {
    "collapsed": false,
    "ExecuteTime": {
     "end_time": "2023-10-01T18:05:50.299476600Z",
     "start_time": "2023-10-01T18:05:50.123477300Z"
    }
   },
   "id": "d164b6de8c1f3466"
  },
  {
   "cell_type": "code",
   "execution_count": 16,
   "outputs": [
    {
     "data": {
      "text/plain": "             area   bathrooms   bedrooms\n0    6.330309e+06   5600000.0  8680000.0\n1    7.552784e+06  13300000.0  8680000.0\n2    8.346598e+06   5600000.0  6370000.0\n3    6.393814e+06   5600000.0  8680000.0\n4    6.330309e+06   1750000.0  8680000.0\n..            ...         ...        ...\n540  2.821649e+06   1750000.0  4060000.0\n541  2.345361e+06   1750000.0  6370000.0\n542  3.313814e+06   1750000.0  4060000.0\n543  2.750206e+06   1750000.0  6370000.0\n544  3.496392e+06   1750000.0  6370000.0\n\n[545 rows x 3 columns]",
      "text/html": "<div>\n<style scoped>\n    .dataframe tbody tr th:only-of-type {\n        vertical-align: middle;\n    }\n\n    .dataframe tbody tr th {\n        vertical-align: top;\n    }\n\n    .dataframe thead th {\n        text-align: right;\n    }\n</style>\n<table border=\"1\" class=\"dataframe\">\n  <thead>\n    <tr style=\"text-align: right;\">\n      <th></th>\n      <th>area</th>\n      <th>bathrooms</th>\n      <th>bedrooms</th>\n    </tr>\n  </thead>\n  <tbody>\n    <tr>\n      <th>0</th>\n      <td>6.330309e+06</td>\n      <td>5600000.0</td>\n      <td>8680000.0</td>\n    </tr>\n    <tr>\n      <th>1</th>\n      <td>7.552784e+06</td>\n      <td>13300000.0</td>\n      <td>8680000.0</td>\n    </tr>\n    <tr>\n      <th>2</th>\n      <td>8.346598e+06</td>\n      <td>5600000.0</td>\n      <td>6370000.0</td>\n    </tr>\n    <tr>\n      <th>3</th>\n      <td>6.393814e+06</td>\n      <td>5600000.0</td>\n      <td>8680000.0</td>\n    </tr>\n    <tr>\n      <th>4</th>\n      <td>6.330309e+06</td>\n      <td>1750000.0</td>\n      <td>8680000.0</td>\n    </tr>\n    <tr>\n      <th>...</th>\n      <td>...</td>\n      <td>...</td>\n      <td>...</td>\n    </tr>\n    <tr>\n      <th>540</th>\n      <td>2.821649e+06</td>\n      <td>1750000.0</td>\n      <td>4060000.0</td>\n    </tr>\n    <tr>\n      <th>541</th>\n      <td>2.345361e+06</td>\n      <td>1750000.0</td>\n      <td>6370000.0</td>\n    </tr>\n    <tr>\n      <th>542</th>\n      <td>3.313814e+06</td>\n      <td>1750000.0</td>\n      <td>4060000.0</td>\n    </tr>\n    <tr>\n      <th>543</th>\n      <td>2.750206e+06</td>\n      <td>1750000.0</td>\n      <td>6370000.0</td>\n    </tr>\n    <tr>\n      <th>544</th>\n      <td>3.496392e+06</td>\n      <td>1750000.0</td>\n      <td>6370000.0</td>\n    </tr>\n  </tbody>\n</table>\n<p>545 rows × 3 columns</p>\n</div>"
     },
     "execution_count": 16,
     "metadata": {},
     "output_type": "execute_result"
    }
   ],
   "source": [
    "original_target = denormalize_data(normalized, df['price'].min(), df['price'].max())\n",
    "print(original_target)"
   ],
   "metadata": {
    "collapsed": false,
    "ExecuteTime": {
     "end_time": "2023-10-01T18:06:17.797664700Z",
     "start_time": "2023-10-01T18:06:17.648649400Z"
    }
   },
   "id": "3a55b74863f11725"
  },
  {
   "cell_type": "code",
   "execution_count": null,
   "outputs": [],
   "source": [],
   "metadata": {
    "collapsed": false
   },
   "id": "8f3cdba8270f9517"
  }
 ],
 "metadata": {
  "kernelspec": {
   "display_name": "Python 3",
   "language": "python",
   "name": "python3"
  },
  "language_info": {
   "codemirror_mode": {
    "name": "ipython",
    "version": 2
   },
   "file_extension": ".py",
   "mimetype": "text/x-python",
   "name": "python",
   "nbconvert_exporter": "python",
   "pygments_lexer": "ipython2",
   "version": "2.7.6"
  }
 },
 "nbformat": 4,
 "nbformat_minor": 5
}
